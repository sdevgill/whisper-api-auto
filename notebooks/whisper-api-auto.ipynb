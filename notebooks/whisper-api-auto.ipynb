{
 "cells": [
  {
   "cell_type": "code",
   "execution_count": null,
   "metadata": {},
   "outputs": [],
   "source": [
    "import os\n",
    "import openai\n",
    "from dotenv import dotenv_values\n",
    "from tinytag import TinyTag"
   ]
  },
  {
   "cell_type": "code",
   "execution_count": null,
   "metadata": {},
   "outputs": [],
   "source": [
    "config = dotenv_values(\".env\")\n",
    "openai.api_key = config[\"OPENAI_API_KEY\"]"
   ]
  },
  {
   "cell_type": "code",
   "execution_count": null,
   "metadata": {},
   "outputs": [],
   "source": [
    "input_folder = \"./input/\"\n",
    "output_folder = \"./output/\"\n",
    "valid_extensions = [\".mp3\", \".wav\", \".m4a\"]  # Add or modify the file extensions as needed\n",
    "cost_per_minute = 0.006"
   ]
  },
  {
   "cell_type": "code",
   "execution_count": null,
   "metadata": {},
   "outputs": [],
   "source": [
    "# Create folders if it doesn't exist\n",
    "if not os.path.exists(output_folder):\n",
    "    os.makedirs(output_folder)\n",
    "\n",
    "if not os.path.exists(input_folder):\n",
    "    os.makedirs(input_folder)"
   ]
  },
  {
   "cell_type": "code",
   "execution_count": null,
   "metadata": {},
   "outputs": [],
   "source": [
    "transcription_count = 0\n",
    "total_cost = 0"
   ]
  },
  {
   "cell_type": "code",
   "execution_count": null,
   "metadata": {},
   "outputs": [],
   "source": [
    "# Iterate through all files in the input folder\n",
    "for filename in os.listdir(input_folder):\n",
    "    # Check if the file has a valid audio file extension\n",
    "    file_extension = os.path.splitext(filename)[1]\n",
    "    if file_extension in valid_extensions:\n",
    "        file_path = os.path.join(input_folder, filename)\n",
    "        output_file_path = os.path.join(output_folder, f\"{os.path.splitext(filename)[0]}_transcription.txt\")\n",
    "\n",
    "        # Transcribe the audio file\n",
    "        with open(file_path, \"rb\") as audio_file:\n",
    "            response = openai.Audio.transcribe(\n",
    "                model=\"whisper-1\",\n",
    "                file=audio_file\n",
    "            )\n",
    "\n",
    "        # Get the duration using TinyTag\n",
    "        audio = TinyTag.get(file_path)\n",
    "        duration = audio.duration / 60  # Convert seconds to minutes\n",
    "\n",
    "        # Calculate the cost\n",
    "        cost = duration * cost_per_minute\n",
    "        total_cost += cost\n",
    "\n",
    "        # Save the transcription to the output folder\n",
    "        text = response[\"text\"]\n",
    "        separator = \"\\n--------------------------------\\n\"\n",
    "\n",
    "        with open(output_file_path, \"a\", encoding=\"utf-8\") as f:\n",
    "            f.write(separator)\n",
    "            f.write(text)\n",
    "            f.write(separator)\n",
    "            f.write(f\"\\nCost of this transcription: ~${cost:.4f}\\n\")\n",
    "\n",
    "        transcription_count += 1\n",
    "        print(f\"Transcription #{transcription_count} for {filename} has been saved. Cost: ~${cost:.4f}\")\n",
    "    else:\n",
    "        print(f\"{filename} has an unsupported file extension. Skipping...\")\n",
    "\n",
    "print(f\"\\nFinished processing {transcription_count} audio files.\\n\")\n",
    "print(f\"Total cost: ~${total_cost:.4f}\")"
   ]
  }
 ],
 "metadata": {
  "kernelspec": {
   "display_name": ".venv",
   "language": "python",
   "name": "python3"
  },
  "language_info": {
   "codemirror_mode": {
    "name": "ipython",
    "version": 3
   },
   "file_extension": ".py",
   "mimetype": "text/x-python",
   "name": "python",
   "nbconvert_exporter": "python",
   "pygments_lexer": "ipython3",
   "version": "3.11.3"
  },
  "orig_nbformat": 4
 },
 "nbformat": 4,
 "nbformat_minor": 2
}
